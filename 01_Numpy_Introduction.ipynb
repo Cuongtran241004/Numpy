{
  "nbformat": 4,
  "nbformat_minor": 0,
  "metadata": {
    "colab": {
      "provenance": [],
      "authorship_tag": "ABX9TyOrHAIQ/UHBFJPW0lXhCD0o",
      "include_colab_link": true
    },
    "kernelspec": {
      "name": "python3",
      "display_name": "Python 3"
    },
    "language_info": {
      "name": "python"
    }
  },
  "cells": [
    {
      "cell_type": "markdown",
      "metadata": {
        "id": "view-in-github",
        "colab_type": "text"
      },
      "source": [
        "<a href=\"https://colab.research.google.com/github/Cuongtran241004/Numpy/blob/main/01_Numpy_Introduction.ipynb\" target=\"_parent\"><img src=\"https://colab.research.google.com/assets/colab-badge.svg\" alt=\"Open In Colab\"/></a>"
      ]
    },
    {
      "cell_type": "code",
      "execution_count": null,
      "metadata": {
        "id": "sEAkJXGCKHt1"
      },
      "outputs": [],
      "source": [
        "import numpy as np\n",
        "arr = np.array([[1,2,3], [4,5,6]])\n",
        "print(\"Array is of type: \", type(arr))\n",
        "print(\"Dimension: \", arr.ndim)\n",
        "print(\"Shape: \", arr.shape)\n",
        "print(\"Size: \", arr.size)\n",
        "print(\"Array type: \", arr.dtype)"
      ]
    },
    {
      "cell_type": "code",
      "source": [
        "import numpy as np\n",
        "a = np.array([[1,2,4], [5,8,7]], dtype = 'float')\n",
        "print(\"Array created using passed list: \\n\", a)\n",
        "print(\"Array type: \", a.dtype)\n",
        "\n",
        "b = np.array((1, 3, 2), dtype=\"int\")\n",
        "print(\"\\nArray created using passed tuple: \\n\", b)\n",
        "\n",
        "c = np.zeros((3, 4))\n",
        "print(\"\\nAn array initialized with all zeros: \\n\", c)\n",
        "\n",
        "c = np.ones((3, 4), dtype=\"int\")\n",
        "print(\"\\nAn array initialized with all one: \\n\", c)\n",
        "\n",
        "d = np.full((3, 3), 6, dtype='complex')\n",
        "print(\"\\nAn array with full 6: \\n\", d)\n",
        "\n",
        "d = np.empty((3, 3), dtype=\"int\")\n",
        "print(\"\\nAn array with empty: \\n\", d)\n",
        "\n",
        "e = np.random.random((2, 2))\n",
        "print(\"\\nA random array: \\n\", e)\n",
        "\n",
        "f = np.arange(0, 30, 5)\n",
        "print(\"\\nAn array with step of 5: \\n\", f)\n",
        "\n",
        "g = np.linspace(0, 100, 5, dtype=\"int\")\n",
        "print(\"\\nA sequential array with 10 values between 0 and 5: \\n\", g)"
      ],
      "metadata": {
        "id": "Jo4xWCbuK2aa"
      },
      "execution_count": null,
      "outputs": []
    },
    {
      "cell_type": "code",
      "source": [
        "import numpy as np\n",
        "arr = np.array([[1, 2, 3, 4],\n",
        "                [5, 2, 4, 2],\n",
        "                [1, 2, 0, 1]])\n",
        "# reshape(count, row, column)\n",
        "newArr = arr.reshape(2, 2, 3)\n",
        "print(\"New array: \\n\", newArr)"
      ],
      "metadata": {
        "id": "1O5E32gVNuZ0",
        "outputId": "63529106-bd1e-4c8c-a9dd-97bee3e812b9",
        "colab": {
          "base_uri": "https://localhost:8080/"
        }
      },
      "execution_count": 18,
      "outputs": [
        {
          "output_type": "stream",
          "name": "stdout",
          "text": [
            "[[[1 2 3]\n",
            "  [4 5 2]]\n",
            "\n",
            " [[4 2 1]\n",
            "  [2 0 1]]]\n"
          ]
        }
      ]
    }
  ]
}