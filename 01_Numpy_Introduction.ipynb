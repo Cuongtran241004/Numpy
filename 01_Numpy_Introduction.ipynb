{
  "nbformat": 4,
  "nbformat_minor": 0,
  "metadata": {
    "colab": {
      "provenance": [],
      "authorship_tag": "ABX9TyP/D0ElacpkeXByKbJpR7qS",
      "include_colab_link": true
    },
    "kernelspec": {
      "name": "python3",
      "display_name": "Python 3"
    },
    "language_info": {
      "name": "python"
    }
  },
  "cells": [
    {
      "cell_type": "markdown",
      "metadata": {
        "id": "view-in-github",
        "colab_type": "text"
      },
      "source": [
        "<a href=\"https://colab.research.google.com/github/Cuongtran241004/Numpy/blob/main/01_Numpy_Introduction.ipynb\" target=\"_parent\"><img src=\"https://colab.research.google.com/assets/colab-badge.svg\" alt=\"Open In Colab\"/></a>"
      ]
    },
    {
      "cell_type": "code",
      "execution_count": null,
      "metadata": {
        "id": "sEAkJXGCKHt1"
      },
      "outputs": [],
      "source": [
        "import numpy as np\n",
        "arr = np.array([[1,2,3], [4,5,6]])\n",
        "print(\"Array is of type: \", type(arr))\n",
        "print(\"Dimension: \", arr.ndim)\n",
        "print(\"Shape: \", arr.shape)\n",
        "print(\"Size: \", arr.size)\n",
        "print(\"Array type: \", arr.dtype)"
      ]
    },
    {
      "cell_type": "code",
      "source": [
        "import numpy as np\n",
        "a = np.array([[1,2,4], [5,8,7]], dtype = 'float')\n",
        "print(\"Array created using passed list: \\n\", a)\n",
        "print(\"Array type: \", a.dtype)\n",
        "\n",
        "b = np.array((1, 3, 2))\n",
        "print(\"\\nArray created using passed tuple: \\n\", b)"
      ],
      "metadata": {
        "id": "Jo4xWCbuK2aa"
      },
      "execution_count": null,
      "outputs": []
    }
  ]
}