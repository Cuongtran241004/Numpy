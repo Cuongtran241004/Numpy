{
  "nbformat": 4,
  "nbformat_minor": 0,
  "metadata": {
    "colab": {
      "provenance": [],
      "authorship_tag": "ABX9TyMA/bKijaJUvN3j31ErGUcL",
      "include_colab_link": true
    },
    "kernelspec": {
      "name": "python3",
      "display_name": "Python 3"
    },
    "language_info": {
      "name": "python"
    }
  },
  "cells": [
    {
      "cell_type": "markdown",
      "metadata": {
        "id": "view-in-github",
        "colab_type": "text"
      },
      "source": [
        "<a href=\"https://colab.research.google.com/github/Cuongtran241004/Numpy/blob/main/01_Numpy_Introduction.ipynb\" target=\"_parent\"><img src=\"https://colab.research.google.com/assets/colab-badge.svg\" alt=\"Open In Colab\"/></a>"
      ]
    },
    {
      "cell_type": "code",
      "execution_count": null,
      "metadata": {
        "id": "sEAkJXGCKHt1"
      },
      "outputs": [],
      "source": [
        "import numpy as np\n",
        "arr = np.array([[1,2,3], [4,5,6]])\n",
        "print(\"Array is of type: \", type(arr))\n",
        "print(\"Dimension: \", arr.ndim)\n",
        "print(\"Shape: \", arr.shape)\n",
        "print(\"Size: \", arr.size)\n",
        "print(\"Array type: \", arr.dtype)"
      ]
    },
    {
      "cell_type": "code",
      "source": [
        "import numpy as np\n",
        "a = np.array([[1,2,4], [5,8,7]], dtype = 'float')\n",
        "print(\"Array created using passed list: \\n\", a)\n",
        "print(\"Array type: \", a.dtype)\n",
        "\n",
        "b = np.array((1, 3, 2), dtype=\"int\")\n",
        "print(\"\\nArray created using passed tuple: \\n\", b)\n",
        "\n",
        "c = np.zeros((3, 4))\n",
        "print(\"\\nAn array initialized with all zeros: \\n\", c)\n",
        "\n",
        "c = np.ones((3, 4), dtype=\"int\")\n",
        "print(\"\\nAn array initialized with all one: \\n\", c)\n",
        "\n",
        "d = np.full((3, 3), 6, dtype='complex')\n",
        "print(\"\\nAn array with full 6: \\n\", d)\n",
        "\n",
        "d = np.empty((3, 3), dtype=\"int\")\n",
        "print(\"\\nAn array with empty: \\n\", d)\n",
        "\n",
        "e = np.random.random((2, 2))\n",
        "print(\"\\nA random array: \\n\", e)\n",
        "\n",
        "f = np.arange(0, 30, 5)\n",
        "print(\"\\nAn array with step of 5: \\n\", f)\n",
        "\n",
        "g = np.linspace(0, 100, 5, dtype=\"int\")\n",
        "print(\"\\nA sequential array with 10 values between 0 and 5: \\n\", g)"
      ],
      "metadata": {
        "id": "Jo4xWCbuK2aa"
      },
      "execution_count": null,
      "outputs": []
    },
    {
      "cell_type": "code",
      "source": [
        "import numpy as np\n",
        "arr = np.array([[1, 2, 3, 4],\n",
        "                [5, 2, 4, 2],\n",
        "                [1, 2, 0, 1]])\n",
        "# reshape(count, row, column)\n",
        "newArr = arr.reshape(2, 2, 3)\n",
        "print(\"New array: \\n\", newArr)\n",
        "\n",
        "flat_arr = arr.flatten();\n",
        "print(\"\\nFlatten array: \\n\", flat_arr)"
      ],
      "metadata": {
        "id": "1O5E32gVNuZ0"
      },
      "execution_count": null,
      "outputs": []
    },
    {
      "cell_type": "code",
      "source": [
        "import numpy as np\n",
        "\n",
        "arr = np.array([[-1, 2, 0, 4],\n",
        "                [4, -0.5, 6, 0],\n",
        "                [2.6, 0, 7, 8],\n",
        "                [3, -7, 4, 2.0]])\n",
        "\n",
        "# Slicing array\n",
        "temp = arr[:2, ::2]\n",
        "print (\"Array with first 2 rows and alternate\"\n",
        "                    \"columns(0 and 2):\\n\", temp)\n",
        "\n",
        "# Integer array indexing example\n",
        "# arr[row, col] -> lấy tuần tự\n",
        "temp = arr[[0, 1, 2, 3], [3, 2, 1, 0]]\n",
        "print (\"\\nElements at indices (0, 3), (1, 2), (2, 1),\"\n",
        "                                    \"(3, 0):\\n\", temp)\n",
        "\n",
        "# boolean array indexing example\n",
        "cond = arr > 0 # cond is a boolean array\n",
        "temp = arr[cond]\n",
        "print (\"\\nElements greater than 0:\\n\", temp)"
      ],
      "metadata": {
        "id": "i4cG_8vUO6Jk"
      },
      "execution_count": null,
      "outputs": []
    },
    {
      "cell_type": "code",
      "source": [
        "import numpy as np\n",
        "a = np.array([1, 2, 5, 3])\n",
        "\n",
        "print(\"Adding 1 o every element: \", a + 1)\n",
        "\n",
        "print(\"subtracting 3 from each element: \", a - 3)\n",
        "\n",
        "print (\"Multiplying each element by 10:\", a*10)\n",
        "\n",
        "print (\"Squaring each element:\", a**2)\n",
        "\n",
        "# modify existing array\n",
        "a *= 2\n",
        "print (\"Doubled each element of original array:\", a)\n",
        "\n",
        "# transpose of array: chuyển vị\n",
        "a = np.array([[1, 2, 3], [3, 4, 5], [9, 6, 0]])\n",
        "print (\"\\nOriginal array:\\n\", a)\n",
        "print (\"Transpose of array:\\n\", a.T)\n"
      ],
      "metadata": {
        "id": "CkhAOmJSQ6Xk"
      },
      "execution_count": null,
      "outputs": []
    },
    {
      "cell_type": "code",
      "source": [
        "import numpy as np\n",
        "arr = np.array([[1, 5, 6],\n",
        "                [4, 7, 2],\n",
        "                [3, 1, 9]])\n",
        "\n",
        "# maximum element of array\n",
        "print (\"Largest element is:\", arr.max())\n",
        "print (\"Row-wise maximum elements:\",\n",
        "                    arr.max(axis = 1))\n",
        "\n",
        "# minimum element of array\n",
        "print (\"Column-wise minimum elements:\",\n",
        "                        arr.min(axis = 0))\n",
        "\n",
        "# sum of array elements\n",
        "print (\"Sum of all array elements:\",\n",
        "                            arr.sum())\n",
        "\n",
        "# cumulative sum along each row: cộng dồn\n",
        "print (\"Cumulative sum along each row:\\n\",\n",
        "                        arr.cumsum(axis = 1))"
      ],
      "metadata": {
        "id": "G7NQF4-BVlLs"
      },
      "execution_count": null,
      "outputs": []
    }
  ]
}